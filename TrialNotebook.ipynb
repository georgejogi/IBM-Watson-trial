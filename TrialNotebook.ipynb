{
    "cells": [
        {
            "cell_type": "markdown",
            "metadata": {
                "collapsed": true
            },
            "source": "# Class Feedback\nthis notebook analyses and visualizes feedback from class"
        },
        {
            "cell_type": "code",
            "execution_count": null,
            "metadata": {},
            "outputs": [],
            "source": ""
        },
        {
            "cell_type": "code",
            "execution_count": 4,
            "metadata": {},
            "outputs": [
                {
                    "data": {
                        "text/html": "<div>\n<style scoped>\n    .dataframe tbody tr th:only-of-type {\n        vertical-align: middle;\n    }\n\n    .dataframe tbody tr th {\n        vertical-align: top;\n    }\n\n    .dataframe thead th {\n        text-align: right;\n    }\n</style>\n<table border=\"1\" class=\"dataframe\">\n  <thead>\n    <tr style=\"text-align: right;\">\n      <th></th>\n      <th>Timestamp</th>\n      <th>Total score</th>\n      <th>Please enter your name</th>\n      <th>Please enter your name [Score]</th>\n      <th>Please enter your name [Feedback]</th>\n      <th>Have you went through ring quantum number?</th>\n      <th>Have you went through ring quantum number? [Score]</th>\n      <th>Have you went through ring quantum number? [Feedback]</th>\n      <th>How well did you understand the past day's topics?</th>\n      <th>How well did you understand the past day's topics? [Score]</th>\n      <th>How well did you understand the past day's topics? [Feedback]</th>\n      <th>Have you experienced any of the following technical difficulties?</th>\n      <th>Have you experienced any of the following technical difficulties? [Score]</th>\n      <th>Have you experienced any of the following technical difficulties? [Feedback]</th>\n      <th>Which platform do you prefer to conduct our live online class?</th>\n      <th>Which platform do you prefer to conduct our live online class? [Score]</th>\n      <th>Which platform do you prefer to conduct our live online class? [Feedback]</th>\n    </tr>\n  </thead>\n  <tbody>\n    <tr>\n      <th>0</th>\n      <td>2020/06/05 3:33:56 PM GMT+5:30</td>\n      <td>10.00 / 10</td>\n      <td>Athira C S</td>\n      <td>-- / 0</td>\n      <td>NaN</td>\n      <td>Yes</td>\n      <td>10.00 / 10</td>\n      <td>NaN</td>\n      <td>3.0</td>\n      <td>-- / 0</td>\n      <td>NaN</td>\n      <td>Nil</td>\n      <td>-- / 0</td>\n      <td>NaN</td>\n      <td>Zoom</td>\n      <td>-- / 0</td>\n      <td>NaN</td>\n    </tr>\n    <tr>\n      <th>1</th>\n      <td>2020/06/05 3:40:40 PM GMT+5:30</td>\n      <td>10.00 / 10</td>\n      <td>Athira C S</td>\n      <td>-- / 0</td>\n      <td>NaN</td>\n      <td>Yes</td>\n      <td>10.00 / 10</td>\n      <td>NaN</td>\n      <td>3.0</td>\n      <td>-- / 0</td>\n      <td>NaN</td>\n      <td>Nil</td>\n      <td>-- / 0</td>\n      <td>NaN</td>\n      <td>Zoom</td>\n      <td>-- / 0</td>\n      <td>NaN</td>\n    </tr>\n    <tr>\n      <th>2</th>\n      <td>2020/06/05 4:32:48 PM GMT+5:30</td>\n      <td>10.00 / 10</td>\n      <td>NILA C M</td>\n      <td>-- / 0</td>\n      <td>NaN</td>\n      <td>Yes</td>\n      <td>10.00 / 10</td>\n      <td>NaN</td>\n      <td>4.0</td>\n      <td>-- / 0</td>\n      <td>NaN</td>\n      <td>Nil</td>\n      <td>-- / 0</td>\n      <td>NaN</td>\n      <td>Youtube live</td>\n      <td>-- / 0</td>\n      <td>NaN</td>\n    </tr>\n    <tr>\n      <th>3</th>\n      <td>2020/06/05 4:36:49 PM GMT+5:30</td>\n      <td>10.00 / 10</td>\n      <td>Anju Maria Symon</td>\n      <td>-- / 0</td>\n      <td>NaN</td>\n      <td>Yes</td>\n      <td>10.00 / 10</td>\n      <td>NaN</td>\n      <td>4.0</td>\n      <td>-- / 0</td>\n      <td>NaN</td>\n      <td>Nil</td>\n      <td>-- / 0</td>\n      <td>NaN</td>\n      <td>Youtube live</td>\n      <td>-- / 0</td>\n      <td>NaN</td>\n    </tr>\n    <tr>\n      <th>4</th>\n      <td>2020/06/05 4:58:25 PM GMT+5:30</td>\n      <td>0.00 / 10</td>\n      <td>Sherin C Rappai</td>\n      <td>-- / 0</td>\n      <td>NaN</td>\n      <td>No</td>\n      <td>0.00 / 10</td>\n      <td>NaN</td>\n      <td>5.0</td>\n      <td>-- / 0</td>\n      <td>NaN</td>\n      <td>Nil</td>\n      <td>-- / 0</td>\n      <td>NaN</td>\n      <td>Youtube live</td>\n      <td>-- / 0</td>\n      <td>NaN</td>\n    </tr>\n  </tbody>\n</table>\n</div>",
                        "text/plain": "                        Timestamp Total score Please enter your name  \\\n0  2020/06/05 3:33:56 PM GMT+5:30  10.00 / 10             Athira C S   \n1  2020/06/05 3:40:40 PM GMT+5:30  10.00 / 10             Athira C S   \n2  2020/06/05 4:32:48 PM GMT+5:30  10.00 / 10               NILA C M   \n3  2020/06/05 4:36:49 PM GMT+5:30  10.00 / 10      Anju Maria Symon    \n4  2020/06/05 4:58:25 PM GMT+5:30   0.00 / 10        Sherin C Rappai   \n\n  Please enter your name [Score]  Please enter your name [Feedback]  \\\n0                         -- / 0                                NaN   \n1                         -- / 0                                NaN   \n2                         -- / 0                                NaN   \n3                         -- / 0                                NaN   \n4                         -- / 0                                NaN   \n\n  Have you went through ring quantum number?  \\\n0                                        Yes   \n1                                        Yes   \n2                                        Yes   \n3                                        Yes   \n4                                         No   \n\n  Have you went through ring quantum number? [Score]  \\\n0                                         10.00 / 10   \n1                                         10.00 / 10   \n2                                         10.00 / 10   \n3                                         10.00 / 10   \n4                                          0.00 / 10   \n\n   Have you went through ring quantum number? [Feedback]  \\\n0                                                NaN       \n1                                                NaN       \n2                                                NaN       \n3                                                NaN       \n4                                                NaN       \n\n   How well did you understand the past day's topics?  \\\n0                                                3.0    \n1                                                3.0    \n2                                                4.0    \n3                                                4.0    \n4                                                5.0    \n\n  How well did you understand the past day's topics? [Score]  \\\n0                                             -- / 0           \n1                                             -- / 0           \n2                                             -- / 0           \n3                                             -- / 0           \n4                                             -- / 0           \n\n   How well did you understand the past day's topics? [Feedback]  \\\n0                                                NaN               \n1                                                NaN               \n2                                                NaN               \n3                                                NaN               \n4                                                NaN               \n\n  Have you experienced any of the following technical difficulties?  \\\n0                                                Nil                  \n1                                                Nil                  \n2                                                Nil                  \n3                                                Nil                  \n4                                                Nil                  \n\n  Have you experienced any of the following technical difficulties? [Score]  \\\n0                                             -- / 0                          \n1                                             -- / 0                          \n2                                             -- / 0                          \n3                                             -- / 0                          \n4                                             -- / 0                          \n\n   Have you experienced any of the following technical difficulties? [Feedback]  \\\n0                                                NaN                              \n1                                                NaN                              \n2                                                NaN                              \n3                                                NaN                              \n4                                                NaN                              \n\n  Which platform do you prefer to conduct our live online class?  \\\n0                                               Zoom               \n1                                               Zoom               \n2                                       Youtube live               \n3                                       Youtube live               \n4                                       Youtube live               \n\n  Which platform do you prefer to conduct our live online class? [Score]  \\\n0                                             -- / 0                       \n1                                             -- / 0                       \n2                                             -- / 0                       \n3                                             -- / 0                       \n4                                             -- / 0                       \n\n   Which platform do you prefer to conduct our live online class? [Feedback]  \n0                                                NaN                          \n1                                                NaN                          \n2                                                NaN                          \n3                                                NaN                          \n4                                                NaN                          "
                    },
                    "execution_count": 4,
                    "metadata": {},
                    "output_type": "execute_result"
                }
            ],
            "source": "# The code was removed by Watson Studio for sharing."
        },
        {
            "cell_type": "code",
            "execution_count": null,
            "metadata": {},
            "outputs": [],
            "source": ""
        }
    ],
    "metadata": {
        "kernelspec": {
            "display_name": "Python 3.6",
            "language": "python",
            "name": "python3"
        },
        "language_info": {
            "codemirror_mode": {
                "name": "ipython",
                "version": 3
            },
            "file_extension": ".py",
            "mimetype": "text/x-python",
            "name": "python",
            "nbconvert_exporter": "python",
            "pygments_lexer": "ipython3",
            "version": "3.6.9"
        }
    },
    "nbformat": 4,
    "nbformat_minor": 1
}